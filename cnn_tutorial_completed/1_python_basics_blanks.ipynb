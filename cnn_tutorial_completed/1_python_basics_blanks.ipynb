{
 "cells": [
  {
   "cell_type": "markdown",
   "id": "b5e69c4452058818",
   "metadata": {},
   "source": [
    "# 1. Python Basics Tutorial \n",
    "## 1.1 Variables and Data Types"
   ]
  },
  {
   "cell_type": "code",
   "execution_count": 1,
   "id": "be7bb12c8efad269",
   "metadata": {},
   "outputs": [
    {
     "ename": "TypeError",
     "evalue": "unsupported operand type(s) for +: 'int' and 'str'",
     "output_type": "error",
     "traceback": [
      "\u001b[1;31m---------------------------------------------------------------------------\u001b[0m",
      "\u001b[1;31mTypeError\u001b[0m                                 Traceback (most recent call last)",
      "Cell \u001b[1;32mIn[1], line 6\u001b[0m\n\u001b[0;32m      4\u001b[0m a\u001b[38;5;241m=\u001b[39m\u001b[38;5;241m6\u001b[39m\n\u001b[0;32m      5\u001b[0m b\u001b[38;5;241m=\u001b[39m\u001b[38;5;124m\"\u001b[39m\u001b[38;5;124mpromenade\u001b[39m\u001b[38;5;124m\"\u001b[39m \u001b[38;5;66;03m# strings in python are enclosed in single or double quotes.(does not matter)\u001b[39;00m\n\u001b[1;32m----> 6\u001b[0m \u001b[38;5;28mprint\u001b[39m(\u001b[43ma\u001b[49m\u001b[38;5;241;43m+\u001b[39;49m\u001b[43mb\u001b[49m)\n",
      "\u001b[1;31mTypeError\u001b[0m: unsupported operand type(s) for +: 'int' and 'str'"
     ]
    }
   ],
   "source": [
    "# python is  quite similar to matlab.\n",
    "\n",
    "# variables are assigned. THere is no ned to declare the type of the variable.\n",
    "a=6\n",
    "b=\"promenade\" # strings in python are enclosed in single or double quotes.(does not matter)\n",
    "print(a+b)"
   ]
  },
  {
   "cell_type": "code",
   "execution_count": null,
   "id": "cae0881dfb7008fc",
   "metadata": {},
   "outputs": [],
   "source": [
    "# indentation and a ':' defines the block of code. (isntead of end in matlab)\n",
    "if a==5:\n",
    "    print(\"a is 5\")\n",
    "elif a==6:\n",
    "    print(\"a is 6\")\n",
    "else:\n",
    "    print(\"a is neither 5 nor 6\")\n",
    "    \n",
    "    \n",
    "# Lists are are like cell arrays in matlab. (but behave a bit like arrays)\n",
    "c=[1,2,3,4,\"potato_string\",[6,7],True,None] # list\n",
    "print(len(c)) # length of the list. length in python returns the length of the first dimension, not the max shape of the array.\n",
    "print(len(c[4])) # indexing is 0-based"
   ]
  },
  {
   "cell_type": "code",
   "execution_count": null,
   "id": "d160bba036d30a77",
   "metadata": {},
   "outputs": [],
   "source": [
    "# all types are essentially objects in python. So they have methods associated with them.\n",
    "# for example, the list object has a method called append.\n",
    "c.append(5)\n",
    "c.append(6)\n",
    "print(c[0:-1]) # slicing is also possible. But the last element is not included. (this makes sense in a 0-based indexing system)\n",
    "c.pop(2)\n",
    "print(c)\n",
    "# Lists are iterables, meaning you can loop over them.\n",
    "for element in c:\n",
    "    print(element)\n",
    "# normal for loops work too, but enumerate is the pythonic way of doing it. \n",
    "\n",
    "#tuple is like a list but immutable. (cannot be changed)\n"
   ]
  },
  {
   "cell_type": "code",
   "execution_count": null,
   "id": "fbe2de315227d1ff",
   "metadata": {},
   "outputs": [],
   "source": [
    "# List comprehensions are a way of creating lists in a more concise way.\n",
    "img_names=[\"img1\",\"img2\",\"img3\",\"img4\"] # add .jpg to each element in the list.\n"
   ]
  },
  {
   "cell_type": "code",
   "execution_count": null,
   "id": "a5b951c146d9c2c6",
   "metadata": {},
   "outputs": [],
   "source": [
    "# dictionaries are like structures in matlab. But are more precisely like hashmaps.\n",
    "d={\"name\":\"John\",\"age\":30,\"city\":\"New York\"}\n",
    "print(d[\"name\"])\n",
    "d[\"age\"]=40\n",
    "d[\"job\"]=\"engineer\"\n",
    "print(d['address'])\n",
    "\n",
    "# all keys can be accessed using the keys method.\n",
    "for key in d.keys():\n",
    "    print(key,d[key],sep=\":\")\n",
    "    \n",
    "# .items() returns a list of tuples. (key,value)"
   ]
  },
  {
   "cell_type": "markdown",
   "id": "826caa5a6ed2941a",
   "metadata": {},
   "source": [
    "# 1.1 functions, classes and objects"
   ]
  },
  {
   "cell_type": "code",
   "execution_count": null,
   "id": "2941e3b7aa6962aa",
   "metadata": {},
   "outputs": [],
   "source": [
    "# functions are defined using the def keyword. There is no need to specify the return type or arguments\n",
    "def add(a,b):\n",
    "    return a+b\n",
    "print(add(5,6))"
   ]
  },
  {
   "cell_type": "code",
   "execution_count": null,
   "id": "a3240adcf5449d6f",
   "metadata": {},
   "outputs": [],
   "source": [
    "# functions can have default arguments\n",
    "def add(a,b=1,c=2):\n",
    "    return a+b+c\n",
    "print(add(5))\n",
    "print(add(5,c=3))\n",
    "# One can also force the user to use named arguments.\n",
    "\n",
    "def sort_array(arr,*,reverse=False):\n",
    "    return sorted(arr,reverse=reverse)\n",
    "\n",
    "print(sort_array([1,7,3,23,5],False))"
   ]
  },
  {
   "cell_type": "code",
   "execution_count": null,
   "id": "8c94a9e809a68e07",
   "metadata": {},
   "outputs": [],
   "source": [
    "# classes are defined using the class keyword. Classes contain methods and attributes. for example the append() function\n",
    "# lets create a class called Person\n",
    "class Person:\n",
    "    def __init__(self,name,age):\n",
    "        self.name=name\n",
    "        self.age=age\n",
    "    def get_birth_year(self,current_year=2024):\n",
    "        return current_year-self.age\n",
    "    # one can also override  default methods like equality\n",
    "    '''def __eq__(self,other):\n",
    "        return self.name==other.name '''\n",
    "p1=Person(\"John\",30)\n",
    "print(p1.name)\n",
    "print(p1.get_birth_year(2020))\n",
    "p2=Person(\"John\",25)\n",
    "print(p1==p2)"
   ]
  },
  {
   "cell_type": "code",
   "execution_count": null,
   "id": "1d4b0e9ba397a2dc",
   "metadata": {},
   "outputs": [],
   "source": [
    "# classes can inherit from other classes.\n",
    "class Student(Person):\n",
    "    def __init__(self,name,age,roll_no):\n",
    "        super().__init__(name,age)\n",
    "        self.roll_no=roll_no\n",
    "    def get_roll_no(self):\n",
    "        return self.roll_no\n",
    "    \n",
    "s1=Student(\"John\",51,123)\n",
    "print(s1)\n",
    "print(s1==p1)\n"
   ]
  },
  {
   "cell_type": "markdown",
   "id": "b086faa5c691ee71",
   "metadata": {},
   "source": [
    "# 1.3  Packages and Numpy Basics"
   ]
  },
  {
   "cell_type": "code",
   "execution_count": null,
   "id": "b955faea36331b31",
   "metadata": {},
   "outputs": [],
   "source": [
    "# the real power of python comes from the packages that are available.\n",
    "import os\n",
    "print(os.getcwd())\n",
    "\n",
    "# numpy is a package that is used for numerical computations. It is similar to matlab.\n",
    "import numpy as np\n",
    "a=np.array([1,2,3,4,5])\n",
    "b=np.zeros((3),dtype=int)\n",
    "c=np.random.rand(3,3)\n",
    "print(a)\n",
    "print(b)\n",
    "print(c)\n",
    "print(c.shape)"
   ]
  },
  {
   "cell_type": "code",
   "execution_count": null,
   "id": "ac1da28ee6310664",
   "metadata": {},
   "outputs": [],
   "source": [
    "## numpy arrays are like matlab arrays. They can be indexed,sliced sortted etc.\n",
    "for i in range(len(c)):\n",
    "    print(c[i])\n",
    "    print(np.sort(c[i]))\n",
    "print(c[0:2,0:2])\n"
   ]
  },
  {
   "cell_type": "code",
   "execution_count": null,
   "id": "acd17c844735d154",
   "metadata": {},
   "outputs": [],
   "source": [
    "# LINEAR REGRESSION FROM SCRATCH USING NUMPY \n",
    "import numpy as np\n",
    "def linear_regression(X,y):\n",
    "    X=np.hstack((np.ones((X.shape[0],1)),X))\n",
    "    beta= None\n",
    "    return beta    \n",
    "X=np.random.rand(100,2)\n",
    "y=28+np.random.randn(100)/10+2*X[:,0]+3*X[:,1]\n",
    "beta=linear_regression(X,y)\n",
    "print(beta)\n"
   ]
  }
 ],
 "metadata": {
  "kernelspec": {
   "display_name": "Python 3",
   "language": "python",
   "name": "python3"
  },
  "language_info": {
   "codemirror_mode": {
    "name": "ipython",
    "version": 3
   },
   "file_extension": ".py",
   "mimetype": "text/x-python",
   "name": "python",
   "nbconvert_exporter": "python",
   "pygments_lexer": "ipython3",
   "version": "3.12.5"
  }
 },
 "nbformat": 4,
 "nbformat_minor": 5
}
